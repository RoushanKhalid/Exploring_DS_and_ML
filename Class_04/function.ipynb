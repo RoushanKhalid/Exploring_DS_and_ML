{
 "cells": [
  {
   "cell_type": "code",
   "execution_count": 3,
   "metadata": {},
   "outputs": [
    {
     "name": "stdout",
     "output_type": "stream",
     "text": [
      "Hello from function call\n",
      "Hello\n"
     ]
    }
   ],
   "source": [
    "def my_func():\n",
    "    print(\"Hello from function call\")\n",
    "my_func()\n",
    "print(\"Hello\")"
   ]
  },
  {
   "cell_type": "code",
   "execution_count": 4,
   "metadata": {},
   "outputs": [
    {
     "name": "stdout",
     "output_type": "stream",
     "text": [
      "Hello from function call\n",
      "Sum of a and b is :  17\n",
      "Hello\n"
     ]
    }
   ],
   "source": [
    "def my_func(a,b):\n",
    "    print(\"Hello from function call\")\n",
    "    print(\"Sum of a and b is : \",a+b)\n",
    "my_func(10,7)\n",
    "print(\"Hello\")"
   ]
  },
  {
   "cell_type": "code",
   "execution_count": 5,
   "metadata": {},
   "outputs": [
    {
     "name": "stdout",
     "output_type": "stream",
     "text": [
      "Hello from function call\n",
      "Sum of a and b is :  78\n",
      "Hello\n"
     ]
    }
   ],
   "source": [
    "def my_func(a,b):\n",
    "    print(\"Hello from function call\")\n",
    "    print(\"Sum of a and b is : \",a+b)\n",
    "x=70\n",
    "y=8\n",
    "my_func(x,y)\n",
    "print(\"Hello\")"
   ]
  },
  {
   "cell_type": "code",
   "execution_count": 8,
   "metadata": {},
   "outputs": [
    {
     "name": "stdout",
     "output_type": "stream",
     "text": [
      "Hello from function call\n",
      "Sum of a and b is :  1020\n",
      "Hello\n"
     ]
    }
   ],
   "source": [
    "def my_func(a,b):\n",
    "    print(\"Hello from function call\") \n",
    "    print(\"Sum of a and b is : \",a+b)\n",
    "x=input(\"Enter a's value: \") #10\n",
    "y=input(\"Enter b's value: \") #20\n",
    "my_func(x,y) #1020\n",
    "print(\"Hello\")"
   ]
  },
  {
   "cell_type": "code",
   "execution_count": 9,
   "metadata": {},
   "outputs": [
    {
     "name": "stdout",
     "output_type": "stream",
     "text": [
      "Hello from function call\n",
      "Sum of a and b is :  30\n",
      "Hello\n"
     ]
    }
   ],
   "source": [
    "def my_func(a,b):\n",
    "    print(\"Hello from function call\") \n",
    "    print(\"Sum of a and b is : \",a+b)\n",
    "x=int(input(\"Enter a's value: \")) #10\n",
    "y=int(input(\"Enter b's value: \")) #20\n",
    "my_func(x,y) #30\n",
    "print(\"Hello\")"
   ]
  },
  {
   "cell_type": "code",
   "execution_count": 10,
   "metadata": {},
   "outputs": [
    {
     "name": "stdout",
     "output_type": "stream",
     "text": [
      "Hello from function call\n",
      "30\n"
     ]
    }
   ],
   "source": [
    "def my_func(a,b):\n",
    "    print(\"Hello from function call\")\n",
    "    return a+b\n",
    "x=int(input(\"Enter a's value: \")) #10\n",
    "y=int(input(\"Enter b's value: \")) #20\n",
    "val=my_func(x,y) #30\n",
    "print(val)"
   ]
  }
 ],
 "metadata": {
  "kernelspec": {
   "display_name": "Python 3",
   "language": "python",
   "name": "python3"
  },
  "language_info": {
   "codemirror_mode": {
    "name": "ipython",
    "version": 3
   },
   "file_extension": ".py",
   "mimetype": "text/x-python",
   "name": "python",
   "nbconvert_exporter": "python",
   "pygments_lexer": "ipython3",
   "version": "3.12.3"
  }
 },
 "nbformat": 4,
 "nbformat_minor": 2
}
