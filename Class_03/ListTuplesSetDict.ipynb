{
 "cells": [
  {
   "cell_type": "markdown",
   "metadata": {},
   "source": [
    "List & Tuple"
   ]
  },
  {
   "cell_type": "code",
   "execution_count": 3,
   "metadata": {},
   "outputs": [
    {
     "name": "stdout",
     "output_type": "stream",
     "text": [
      "['Godzilla x Kong', 'Dune: Part Two', True, 78]\n",
      "('Godzilla x Kong', 'Dune: Part Two', False, 17)\n",
      "<class 'list'>\n",
      "<class 'tuple'>\n"
     ]
    }
   ],
   "source": [
    "List_of_movies=[\"Godzilla x Kong\", \"Dune: Part Two\", True, 78] # Mutable, Ordered\n",
    "Tuple_of_movies=(\"Godzilla x Kong\", \"Dune: Part Two\", False, 17) # Not Mutable \n",
    "print(List_of_movies)\n",
    "print(Tuple_of_movies)\n",
    "print(type(List_of_movies))\n",
    "print(type(Tuple_of_movies))"
   ]
  },
  {
   "cell_type": "code",
   "execution_count": 18,
   "metadata": {},
   "outputs": [
    {
     "name": "stdout",
     "output_type": "stream",
     "text": [
      "G\n",
      "12 Angry Men\n",
      "y\n"
     ]
    }
   ],
   "source": [
    "text = \"Glad that you're doing well.\"\n",
    "print(text[0])  # Output: G\n",
    "Tuple_of_movies = (\"The Godfather\", \"Pulp Fiction\", \"The Shawshank Redemption\", \"12 Angry Men\")\n",
    "print(Tuple_of_movies[3])  # Output: 12 Angry Men\n",
    "print(Tuple_of_movies[3][7])  # Output: y"
   ]
  },
  {
   "cell_type": "code",
   "execution_count": 23,
   "metadata": {},
   "outputs": [
    {
     "name": "stdout",
     "output_type": "stream",
     "text": [
      "['khalid', 20]\n"
     ]
    }
   ],
   "source": [
    "test_list=[\"khalid\", 17]\n",
    "# test_list[0]=test_list[0]+3   # You cannot add an integer to a string\n",
    "test_list[1]=test_list[1]+3\n",
    "\n",
    "print(test_list)"
   ]
  },
  {
   "cell_type": "markdown",
   "metadata": {},
   "source": [
    "Slicing"
   ]
  },
  {
   "cell_type": "code",
   "execution_count": 31,
   "metadata": {},
   "outputs": [
    {
     "name": "stdout",
     "output_type": "stream",
     "text": [
      "['Apple', 'Banana']\n",
      "['Cherry', 'Mango', 'Guava']\n",
      "Guava\n",
      "['Cherry', 'Mango']\n",
      "['Apple', 'Banana', 'Cherry', 'Mango', 'Guava']\n",
      "['Apple', 'Cherry', 'Guava']\n",
      "[]\n",
      "['Apple', 'Cherry', 'Guava']\n"
     ]
    }
   ],
   "source": [
    "slicing=[\"Apple\", \"Banana\", \"Cherry\", \"Mango\", \"Guava\"]\n",
    "print(slicing[0:2])  # Output: ['Apple', 'Banana']\n",
    "print(slicing[2:])  # Output: ['Cherry', 'Mango', 'Guava']\n",
    "print(slicing[-1])  # Output: Guava\n",
    "print(slicing[-3:-1])  # Output: ['Cherry', 'Mango']\n",
    "print(slicing[0:5])  # Output: ['Apple', 'Banana', 'Cherry', 'Mango', 'Guava']\n",
    "\n",
    "# Extract every other element from index 0 to 5 (inclusive)\n",
    "print(slicing[0:5:2])  # Output: ['Apple', 'Cherry', 'Guava']\n",
    "print(slicing[-1:-2])  # Output: []\n",
    "\n",
    "print(slicing[0:5:2]) # Repeat the previous slice operation  # Output: ['Apple', 'Cherry', 'Guava']"
   ]
  }
 ],
 "metadata": {
  "kernelspec": {
   "display_name": "Python 3",
   "language": "python",
   "name": "python3"
  },
  "language_info": {
   "codemirror_mode": {
    "name": "ipython",
    "version": 3
   },
   "file_extension": ".py",
   "mimetype": "text/x-python",
   "name": "python",
   "nbconvert_exporter": "python",
   "pygments_lexer": "ipython3",
   "version": "3.12.3"
  }
 },
 "nbformat": 4,
 "nbformat_minor": 2
}
