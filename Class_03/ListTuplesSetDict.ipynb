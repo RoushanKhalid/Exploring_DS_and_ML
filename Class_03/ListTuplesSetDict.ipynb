{
 "cells": [
  {
   "cell_type": "markdown",
   "metadata": {},
   "source": [
    "List & Tuple"
   ]
  },
  {
   "cell_type": "code",
   "execution_count": 3,
   "metadata": {},
   "outputs": [
    {
     "name": "stdout",
     "output_type": "stream",
     "text": [
      "['Godzilla x Kong', 'Dune: Part Two', True, 78]\n",
      "('Godzilla x Kong', 'Dune: Part Two', False, 17)\n",
      "<class 'list'>\n",
      "<class 'tuple'>\n"
     ]
    }
   ],
   "source": [
    "List_of_movies=[\"Godzilla x Kong\", \"Dune: Part Two\", True, 78] # Mutable, Ordered\n",
    "Tuple_of_movies=(\"Godzilla x Kong\", \"Dune: Part Two\", False, 17) # Not Mutable \n",
    "print(List_of_movies)\n",
    "print(Tuple_of_movies)\n",
    "print(type(List_of_movies))\n",
    "print(type(Tuple_of_movies))"
   ]
  },
  {
   "cell_type": "code",
   "execution_count": 18,
   "metadata": {},
   "outputs": [
    {
     "name": "stdout",
     "output_type": "stream",
     "text": [
      "G\n",
      "12 Angry Men\n",
      "y\n"
     ]
    }
   ],
   "source": [
    "text = \"Glad that you're doing well.\"\n",
    "print(text[0])  # Output: G\n",
    "Tuple_of_movies = (\"The Godfather\", \"Pulp Fiction\", \"The Shawshank Redemption\", \"12 Angry Men\")\n",
    "print(Tuple_of_movies[3])  # Output: 12 Angry Men\n",
    "print(Tuple_of_movies[3][7])  # Output: y"
   ]
  },
  {
   "cell_type": "code",
   "execution_count": 23,
   "metadata": {},
   "outputs": [
    {
     "name": "stdout",
     "output_type": "stream",
     "text": [
      "['khalid', 20]\n"
     ]
    }
   ],
   "source": [
    "test_list=[\"khalid\", 17]\n",
    "# test_list[0]=test_list[0]+3   # You cannot add an integer to a string\n",
    "test_list[1]=test_list[1]+3\n",
    "\n",
    "print(test_list)"
   ]
  },
  {
   "cell_type": "markdown",
   "metadata": {},
   "source": [
    "Slicing"
   ]
  },
  {
   "cell_type": "code",
   "execution_count": 32,
   "metadata": {},
   "outputs": [
    {
     "name": "stdout",
     "output_type": "stream",
     "text": [
      "['Apple', 'Banana']\n",
      "['Cherry', 'Mango', 'Guava']\n",
      "Guava\n",
      "['Cherry', 'Mango']\n",
      "['Apple', 'Banana', 'Cherry', 'Mango', 'Guava']\n",
      "['Apple', 'Cherry', 'Guava']\n",
      "[]\n",
      "['Apple', 'Cherry', 'Guava']\n"
     ]
    }
   ],
   "source": [
    "slicing=[\"Apple\", \"Banana\", \"Cherry\", \"Mango\", \"Guava\"]\n",
    "print(slicing[0:2])  # Output: ['Apple', 'Banana']\n",
    "print(slicing[2:])  # Output: ['Cherry', 'Mango', 'Guava']\n",
    "print(slicing[-1])  # Output: Guava\n",
    "print(slicing[-3:-1])  # Output: ['Cherry', 'Mango']\n",
    "print(slicing[0:5])  # Output: ['Apple', 'Banana', 'Cherry', 'Mango', 'Guava']\n",
    "\n",
    "# Extract every other element from index 0 to 5 (inclusive)\n",
    "print(slicing[0:5:2])  # Output: ['Apple', 'Cherry', 'Guava']\n",
    "print(slicing[-1:-2])  # Output: []\n",
    "\n",
    "print(slicing[0:5:2]) # Repeat the previous slice operation  # Output: ['Apple', 'Cherry', 'Guava']"
   ]
  },
  {
   "cell_type": "code",
   "execution_count": 40,
   "metadata": {},
   "outputs": [
    {
     "name": "stdout",
     "output_type": "stream",
     "text": [
      "['khalid', 17, 'loser', 'prima', 78, 'optimist']\n",
      "khalid\n",
      "17\n",
      "loser\n",
      "prima\n",
      "78\n",
      "optimist\n"
     ]
    }
   ],
   "source": [
    "name1=[\"khalid\", 17, \"loser\"]\n",
    "name2=[\"prima\", 78, \"optimist\"]\n",
    "name=name1+name2\n",
    "print(name)\n",
    "a,b,c,d,e,f=name\n",
    "print(a)\n",
    "print(b)\n",
    "print(c)\n",
    "print(d)\n",
    "print(e)\n",
    "print(f)"
   ]
  },
  {
   "cell_type": "markdown",
   "metadata": {},
   "source": [
    "Breakdown the List Items"
   ]
  },
  {
   "cell_type": "code",
   "execution_count": 43,
   "metadata": {},
   "outputs": [
    {
     "name": "stdout",
     "output_type": "stream",
     "text": [
      "khalid\n",
      "[17, 'loser', 'prima', 78, 'optimist']\n"
     ]
    }
   ],
   "source": [
    "myname, *rest_of_all=name\n",
    "print(myname)\n",
    "print(rest_of_all)"
   ]
  },
  {
   "cell_type": "code",
   "execution_count": 44,
   "metadata": {},
   "outputs": [
    {
     "name": "stdout",
     "output_type": "stream",
     "text": [
      "['khalid', 17, 'loser', 'prima', 78, 'optimist', 'Start', 'End', 'Hope']\n"
     ]
    }
   ],
   "source": [
    "new_name=[*name,\"Start\",\"End\",\"Hope\"]\n",
    "print(new_name)"
   ]
  },
  {
   "cell_type": "markdown",
   "metadata": {},
   "source": [
    "Comparing List Items"
   ]
  },
  {
   "cell_type": "code",
   "execution_count": 49,
   "metadata": {},
   "outputs": [
    {
     "name": "stdout",
     "output_type": "stream",
     "text": [
      "True\n"
     ]
    }
   ],
   "source": [
    "list1=[3,5,8,3,5]\n",
    "list2=[4,5,7,2]\n",
    "print(list1<list2) # The output of list1 < list2 is True because the first element of list1 (3) is less than the first element of list2 (4)."
   ]
  },
  {
   "cell_type": "markdown",
   "metadata": {},
   "source": [
    "List Methods"
   ]
  },
  {
   "cell_type": "code",
   "execution_count": 69,
   "metadata": {},
   "outputs": [
    {
     "name": "stdout",
     "output_type": "stream",
     "text": [
      "['me', 'mom', 'father']\n",
      "['jafrin', 'me', 'mom', 'father']\n",
      "['jafrin', 'a life', 'me', 'mom', 'father']\n",
      "['father', 'mom', 'me', 'a life', 'jafrin']\n",
      "a life\n",
      "['father', 'mom', 'me', 'jafrin']\n",
      "['father', 'mom', 'jafrin']\n",
      "['father', 'jafrin', 'mom']\n",
      "['mom', 'jafrin', 'father']\n",
      "1\n",
      "[]\n"
     ]
    }
   ],
   "source": [
    "people=[\"me\", \"mom\"]\n",
    "people.append(\"father\")\n",
    "print(people) # used to insert an item\n",
    "\n",
    "my_people=[\"jafrin\"]\n",
    "my_people.extend(people)\n",
    "print(my_people)\n",
    "\n",
    "my_people.insert(1,\"a life\")\n",
    "print(my_people)\n",
    "\n",
    "my_people.reverse()\n",
    "print(my_people)\n",
    "\n",
    "rem=my_people.pop(3)\n",
    "print(rem)\n",
    "print(my_people)\n",
    "\n",
    "my_people.remove(\"me\")\n",
    "print(my_people)\n",
    "\n",
    "my_people.sort()\n",
    "print(my_people)\n",
    "\n",
    "my_people.sort(reverse=True)\n",
    "print(my_people)\n",
    "\n",
    "print(my_people.index(\"jafrin\"))\n",
    "\n",
    "my_people.clear()\n",
    "print(my_people)\n",
    "\n"
   ]
  },
  {
   "cell_type": "code",
   "execution_count": null,
   "metadata": {},
   "outputs": [],
   "source": []
  }
 ],
 "metadata": {
  "kernelspec": {
   "display_name": "Python 3",
   "language": "python",
   "name": "python3"
  },
  "language_info": {
   "codemirror_mode": {
    "name": "ipython",
    "version": 3
   },
   "file_extension": ".py",
   "mimetype": "text/x-python",
   "name": "python",
   "nbconvert_exporter": "python",
   "pygments_lexer": "ipython3",
   "version": "3.12.3"
  }
 },
 "nbformat": 4,
 "nbformat_minor": 2
}
